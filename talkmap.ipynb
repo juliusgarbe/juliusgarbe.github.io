{
 "cells": [
  {
   "cell_type": "markdown",
   "metadata": {},
   "source": [
    "# Leaflet cluster map of talk locations\n",
    "\n",
    "(c) 2016-2017 R. Stuart Geiger, released under the MIT license\n",
    "\n",
    "Run this from the _talks/ directory, which contains .md files of all your talks. This scrapes the location YAML field from each .md file, geolocates it with geopy/Nominatim, and uses the getorg library to output data, HTML, and Javascript for a standalone cluster map.\n",
    "\n",
    "Requires: glob, getorg, geopy"
   ]
  },
  {
   "cell_type": "code",
   "execution_count": 1,
   "metadata": {},
   "outputs": [],
   "source": [
    "#!pip install getorg python-frontmatter"
   ]
  },
  {
   "cell_type": "code",
   "execution_count": 2,
   "metadata": {},
   "outputs": [
    {
     "name": "stdout",
     "output_type": "stream",
     "text": [
      "Iywidgets and ipyleaflet support disabled. You must be in a Jupyter notebook to use this feature.\n",
      "Error raised:\n",
      "No module named 'ipyleaflet'\n",
      "Check that you have enabled ipyleaflet in Jupyter with:\n",
      "    jupyter nbextension enable --py ipyleaflet\n"
     ]
    }
   ],
   "source": [
    "import glob\n",
    "import getorg\n",
    "from geopy import Nominatim"
   ]
  },
  {
   "cell_type": "code",
   "execution_count": 3,
   "metadata": {},
   "outputs": [],
   "source": [
    "g = glob.glob(\"_talks/*.md\")"
   ]
  },
  {
   "cell_type": "code",
   "execution_count": 4,
   "metadata": {},
   "outputs": [],
   "source": [
    "geocoder = Nominatim(user_agent=\"my-application1\") # small hack, as `user_agent=\"my-application\"` (default) returns an error\n",
    "location_dict = {}\n",
    "location = \"\"\n",
    "permalink = \"\"\n",
    "title = \"\"\n",
    "venue = \"\""
   ]
  },
  {
   "cell_type": "code",
   "execution_count": 5,
   "metadata": {
    "scrolled": false
   },
   "outputs": [
    {
     "name": "stdout",
     "output_type": "stream",
     "text": [
      "Hysteresis of the Antarctic Ice Sheet | EGU General Assembly 2019, Vienna, Austria \n",
      " Wien, 1010, Österreich \n",
      "\n",
      "The Hysteresis of the Antarctic Ice Sheet | InTENSE Workshop, Bad Belzig, Germany \n",
      " Bad Belzig, Potsdam-Mittelmark, Brandenburg, 14806, Deutschland \n",
      "\n",
      "Hysteresis behaviour of the Antarctic Ice Sheet with the Parallel Ice Sheet Model | EGU General Assembly 2018, Vienna, Austria \n",
      " Wien, 1010, Österreich \n",
      "\n",
      "Tipping of the Antarctic Ice Sheet influenced by Greenland ice loss | Potsdam Institute for Climate Impact Research, Potsdam, Germany \n",
      " Potsdam, Brandenburg, Deutschland \n",
      "\n",
      "The Hysteresis of the Antarctic Ice Sheet | Potsdam Institute for Climate Impact Research, Potsdam, Germany (online) \n",
      " Potsdam, Brandenburg, Deutschland \n",
      "\n",
      "Antarctic ice dynamics - from deep past to deep future | EGU General Assembly 2020, Vienna, Austria (online) \n",
      " Wien, 1010, Österreich \n",
      "\n",
      "Hysteresis Behavior of the Antarctic Ice Sheet | Potsdam Institute for Climate Impact Research, Potsdam, Germany \n",
      " Potsdam, Brandenburg, Deutschland \n",
      "\n",
      "The Hysteresis of the Antarctic Ice Sheet | AGU Fall Meeting 2020, San Francisco, CA, USA (online) \n",
      " San Francisco, San Francisco City and County, San Francisco, California, United States \n",
      "\n",
      "Long-term stability of the Antarctic Ice Sheet | AGU Fall Meeting 2019, San Francisco, CA, USA \n",
      " San Francisco, San Francisco City and County, San Francisco, California, United States \n",
      "\n",
      "9 talks\n"
     ]
    }
   ],
   "source": [
    "count=0\n",
    "for file in g:\n",
    "    with open(file, 'r') as f:\n",
    "        lines = f.read()\n",
    "        if lines.find('location: \"') > 1:\n",
    "            loc_start = lines.find('location: \"') + 11\n",
    "            lines_trim = lines[loc_start:]\n",
    "            loc_end = lines_trim.find('\"')\n",
    "            location = lines_trim[:loc_end]\n",
    "        if lines.find('title: \"') > 1:\n",
    "            loc_start = lines.find('title: \"') + 8\n",
    "            lines_trim = lines[loc_start:]\n",
    "            loc_end = lines_trim.find('\"')\n",
    "            title = lines_trim[:loc_end]\n",
    "        if lines.find('venue: \"') > 1:\n",
    "            loc_start = lines.find('venue: \"') + 8\n",
    "            lines_trim = lines[loc_start:]\n",
    "            loc_end = lines_trim.find('\"')\n",
    "            venue = lines_trim[:loc_end]\n",
    "\n",
    "        key = str(title + \" | \" + venue + \", \" + location)\n",
    "\n",
    "        if location.endswith(\"(online)\"): # special case for online talks\n",
    "            location = location.rstrip(\" (online)\")\n",
    "        \n",
    "        location_dict[key] = geocoder.geocode(location, timeout=60)\n",
    "        \n",
    "        print(key, \"\\n\", location_dict[key], \"\\n\")\n",
    "    \n",
    "    count += 1\n",
    "print(count, \"talks\")"
   ]
  },
  {
   "cell_type": "code",
   "execution_count": 6,
   "metadata": {},
   "outputs": [],
   "source": [
    "# remove old org-locations.js first, otherwise changed entries just get appended\n",
    "import os\n",
    "os.remove(\"talkmap/org-locations.js\")"
   ]
  },
  {
   "cell_type": "code",
   "execution_count": 7,
   "metadata": {},
   "outputs": [
    {
     "data": {
      "text/plain": [
       "'Written map to talkmap/'"
      ]
     },
     "execution_count": 7,
     "metadata": {},
     "output_type": "execute_result"
    }
   ],
   "source": [
    "m = getorg.orgmap.create_map_obj()\n",
    "getorg.orgmap.output_html_cluster_map(location_dict, folder_name=\"talkmap/\", hashed_usernames=False)"
   ]
  },
  {
   "cell_type": "code",
   "execution_count": 8,
   "metadata": {},
   "outputs": [
    {
     "name": "stdout",
     "output_type": "stream",
     "text": [
      "copying files from restore/ directory\n"
     ]
    },
    {
     "data": {
      "text/plain": [
       "'./talkmap/'"
      ]
     },
     "execution_count": 8,
     "metadata": {},
     "output_type": "execute_result"
    }
   ],
   "source": [
    "# some files include manual changes but are overwitten by getorg, like map.html and leaflet_dist/screen.css\n",
    "# thus a backup version is kept in restore/ and copied to replace the newly created ones\n",
    "import shutil\n",
    "print('copying files from restore/ directory')\n",
    "shutil.copytree(\"./talkmap/restore/\",\"./talkmap/\", dirs_exist_ok=True)"
   ]
  },
  {
   "cell_type": "code",
   "execution_count": null,
   "metadata": {},
   "outputs": [],
   "source": []
  }
 ],
 "metadata": {
  "anaconda-cloud": {},
  "kernelspec": {
   "display_name": "Python 3",
   "language": "python",
   "name": "python3"
  },
  "language_info": {
   "codemirror_mode": {
    "name": "ipython",
    "version": 3
   },
   "file_extension": ".py",
   "mimetype": "text/x-python",
   "name": "python",
   "nbconvert_exporter": "python",
   "pygments_lexer": "ipython3",
   "version": "3.8.10"
  },
  "toc": {
   "base_numbering": 1,
   "nav_menu": {},
   "number_sections": true,
   "sideBar": true,
   "skip_h1_title": false,
   "title_cell": "Table of Contents",
   "title_sidebar": "Contents",
   "toc_cell": false,
   "toc_position": {},
   "toc_section_display": true,
   "toc_window_display": false
  }
 },
 "nbformat": 4,
 "nbformat_minor": 1
}
